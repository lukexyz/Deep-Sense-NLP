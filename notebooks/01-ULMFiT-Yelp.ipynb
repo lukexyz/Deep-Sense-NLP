{
 "cells": [
  {
   "cell_type": "code",
   "execution_count": 1,
   "metadata": {},
   "outputs": [
    {
     "name": "stdout",
     "output_type": "stream",
     "text": [
      "Tesla K80\n"
     ]
    }
   ],
   "source": [
    "import numpy as np\n",
    "import pandas as pd\n",
    "import matplotlib.pyplot as plt\n",
    "import torch\n",
    "\n",
    "from fastai import *\n",
    "from fastai.text import *\n",
    "\n",
    "%reload_ext autoreload\n",
    "%autoreload 2\n",
    "%matplotlib inline\n",
    "\n",
    "print(torch.cuda.get_device_name(device=None))"
   ]
  },
  {
   "cell_type": "markdown",
   "metadata": {},
   "source": [
    "# `ULMFiT` Sentiment Analysis of Yelp Reviews\n",
    "* The ULMFiT NLP transfer learning technique, was introduced in this 2018 paper (https://arxiv.org/pdf/1801.06146.pdf)\n",
    "* Explaination of usage comes from this excellent course by Rachel Thomas (https://www.fast.ai/2019/07/08/fastai-nlp/)\n",
    "\n",
    "\n",
    "### The model works in three stages\n",
    "1. The `AWD-LSTM SequentialRNN` is pretrained on a general-domain corpus, in our case the `WikiText103` dataset.\n",
    "2. The `AWD-LSTM Language model`, training as a sequence generator, is then fine-tuned on the domain-specific corpus (Yelp reviews).\n",
    "3. The embeddings learnt from these first two steps are imported into a new `classifier model`, which is fine-tuned on the target task (star ratings) with gradual unfreezing of the final layers."
   ]
  },
  {
   "cell_type": "code",
   "execution_count": 2,
   "metadata": {},
   "outputs": [],
   "source": [
    "path = untar_data(URLs.YELP_REVIEWS)\n",
    "df_train = pd.read_csv(path/'train.csv', header=None, names=['rating', 'text']) \\\n",
    "             .sample(frac=0.05, random_state=1)\n",
    "df_test = pd.read_csv(path/'test.csv', header=None, names=['rating', 'text']) \\\n",
    "            .sample(frac=0.05, random_state=1)"
   ]
  },
  {
   "cell_type": "markdown",
   "metadata": {},
   "source": [
    "* Taking sample set for development"
   ]
  },
  {
   "cell_type": "code",
   "execution_count": 3,
   "metadata": {
    "scrolled": true
   },
   "outputs": [
    {
     "name": "stdout",
     "output_type": "stream",
     "text": [
      "(32500, 2) (2500, 2)\n"
     ]
    },
    {
     "data": {
      "text/html": [
       "<div>\n",
       "<style scoped>\n",
       "    .dataframe tbody tr th:only-of-type {\n",
       "        vertical-align: middle;\n",
       "    }\n",
       "\n",
       "    .dataframe tbody tr th {\n",
       "        vertical-align: top;\n",
       "    }\n",
       "\n",
       "    .dataframe thead th {\n",
       "        text-align: right;\n",
       "    }\n",
       "</style>\n",
       "<table border=\"1\" class=\"dataframe\">\n",
       "  <thead>\n",
       "    <tr style=\"text-align: right;\">\n",
       "      <th></th>\n",
       "      <th>rating</th>\n",
       "      <th>text</th>\n",
       "    </tr>\n",
       "  </thead>\n",
       "  <tbody>\n",
       "    <tr>\n",
       "      <th>21194</th>\n",
       "      <td>1</td>\n",
       "      <td>Thank you for all the emails you sent me on my...</td>\n",
       "    </tr>\n",
       "    <tr>\n",
       "      <th>373117</th>\n",
       "      <td>4</td>\n",
       "      <td>I, myself, and vietnamese and have tried all d...</td>\n",
       "    </tr>\n",
       "    <tr>\n",
       "      <th>470627</th>\n",
       "      <td>3</td>\n",
       "      <td>3.5 stars.\\n\\nI have had BFG on my list of \\\"m...</td>\n",
       "    </tr>\n",
       "    <tr>\n",
       "      <th>256672</th>\n",
       "      <td>3</td>\n",
       "      <td>Edamame with truffle salt was great; really li...</td>\n",
       "    </tr>\n",
       "    <tr>\n",
       "      <th>465495</th>\n",
       "      <td>4</td>\n",
       "      <td>So I'm running  errands before I go back to th...</td>\n",
       "    </tr>\n",
       "  </tbody>\n",
       "</table>\n",
       "</div>"
      ],
      "text/plain": [
       "        rating                                               text\n",
       "21194        1  Thank you for all the emails you sent me on my...\n",
       "373117       4  I, myself, and vietnamese and have tried all d...\n",
       "470627       3  3.5 stars.\\n\\nI have had BFG on my list of \\\"m...\n",
       "256672       3  Edamame with truffle salt was great; really li...\n",
       "465495       4  So I'm running  errands before I go back to th..."
      ]
     },
     "execution_count": 3,
     "metadata": {},
     "output_type": "execute_result"
    }
   ],
   "source": [
    "print(df_train.shape, df_test.shape)\n",
    "df_train.head()"
   ]
  },
  {
   "cell_type": "code",
   "execution_count": 4,
   "metadata": {},
   "outputs": [
    {
     "data": {
      "text/plain": [
       "'Thank you for all the emails you sent me on my review! I was surprised at how many responses I recieved from people searching for the right dentist..\\\\nI shared my new dentist information and even got some movie tickets from my dentist for the referrals!\\\\nI find it funny how since I wrote this review how many people have reviewed with 5 stars... They must have a lot of friends and family! \\\\nI hope everyone reads my review and picks the right dentist for your needs!\\\\nHappy Holidays'"
      ]
     },
     "execution_count": 4,
     "metadata": {},
     "output_type": "execute_result"
    }
   ],
   "source": [
    "# First review\n",
    "df_train['text'][21194][:500]"
   ]
  },
  {
   "cell_type": "markdown",
   "metadata": {},
   "source": [
    "### Split into `training`, `validation` and `hold-out` test set (df_test)"
   ]
  },
  {
   "cell_type": "code",
   "execution_count": 5,
   "metadata": {},
   "outputs": [
    {
     "name": "stdout",
     "output_type": "stream",
     "text": [
      "(26000, 2) (6500, 2)\n"
     ]
    }
   ],
   "source": [
    "from sklearn.model_selection import train_test_split\n",
    "\n",
    "# Split data into training and validation set\n",
    "df_trn, df_val = train_test_split(df_train, stratify=df_train['rating'],\n",
    "                                  test_size=0.2, random_state=1)\n",
    "print(df_trn.shape, df_val.shape)"
   ]
  },
  {
   "cell_type": "code",
   "execution_count": 6,
   "metadata": {},
   "outputs": [
    {
     "name": "stdout",
     "output_type": "stream",
     "text": [
      "CPU times: user 592 ms, sys: 72 ms, total: 664 ms\n",
      "Wall time: 666 ms\n"
     ]
    }
   ],
   "source": [
    "%%time\n",
    "df_trn.to_csv(path / 'train_sample.csv')\n",
    "df_val.to_csv(path / 'val_sample.csv')\n",
    "df_test.to_csv(path / 'test_sample.csv')"
   ]
  },
  {
   "cell_type": "code",
   "execution_count": 7,
   "metadata": {},
   "outputs": [
    {
     "data": {
      "text/plain": [
       "[PosixPath('/home/ubuntu/.fastai/data/yelp_review_full_csv/readme.txt'),\n",
       " PosixPath('/home/ubuntu/.fastai/data/yelp_review_full_csv/val_sample.csv'),\n",
       " PosixPath('/home/ubuntu/.fastai/data/yelp_review_full_csv/test.csv'),\n",
       " PosixPath('/home/ubuntu/.fastai/data/yelp_review_full_csv/test_sample.csv'),\n",
       " PosixPath('/home/ubuntu/.fastai/data/yelp_review_full_csv/train_sample.csv'),\n",
       " PosixPath('/home/ubuntu/.fastai/data/yelp_review_full_csv/train.csv'),\n",
       " PosixPath('/home/ubuntu/.fastai/data/yelp_review_full_csv/models')]"
      ]
     },
     "execution_count": 7,
     "metadata": {},
     "output_type": "execute_result"
    }
   ],
   "source": [
    "path.ls()"
   ]
  },
  {
   "cell_type": "markdown",
   "metadata": {},
   "source": [
    "### Tokenization\n",
    "* The first step of processing we make the texts go through is to split the raw sentences into words, or `tokens`."
   ]
  },
  {
   "cell_type": "code",
   "execution_count": 8,
   "metadata": {},
   "outputs": [
    {
     "data": {
      "text/html": [],
      "text/plain": [
       "<IPython.core.display.HTML object>"
      ]
     },
     "metadata": {},
     "output_type": "display_data"
    },
    {
     "data": {
      "text/html": [],
      "text/plain": [
       "<IPython.core.display.HTML object>"
      ]
     },
     "metadata": {},
     "output_type": "display_data"
    },
    {
     "data": {
      "text/html": [
       "<table border=\"1\" class=\"dataframe\">\n",
       "  <thead>\n",
       "    <tr style=\"text-align: right;\">\n",
       "      <th>text</th>\n",
       "      <th>target</th>\n",
       "    </tr>\n",
       "  </thead>\n",
       "  <tbody>\n",
       "    <tr>\n",
       "      <td>xxbos xxmaj with a name like xxmaj ping xxmaj pang xxmaj pong , you 're not sure if you 're headed to one of ' those ' shows in xxmaj thailand or sitting down for some dim sum at a xxmaj chinese restaurant . xxmaj when in xxmaj vegas , it 's the latter ... at least in this case . \\n \\n  xxmaj seeing billboards all over town</td>\n",
       "      <td>3</td>\n",
       "    </tr>\n",
       "    <tr>\n",
       "      <td>xxbos a place that has been on our ' wish list ' for , like , forever .. has been xxmaj bratalian ... xxmaj ever since xxmaj chef 's xxmaj palate closed down , we 've been missing a really good gourmet restaurant on our side of town ... \\n \\n  xxmaj so when xxmaj rick 's xxmaj dad suggested that we go , ( he read about xxmaj</td>\n",
       "      <td>3</td>\n",
       "    </tr>\n",
       "    <tr>\n",
       "      <td>xxbos i have really mixed feelings about the xxup core xxmaj institute . xxmaj my two main problems with xxup core are \\n \\n  1 ) it 's drive - thru pain management and \\n  2 ) xxup xxunk patients seem to be treated with lesser care . \\n \\n  xxmaj having said that , i do n't have any experience with other pain xxunk clinics to</td>\n",
       "      <td>3</td>\n",
       "    </tr>\n",
       "    <tr>\n",
       "      <td>xxbos xxmaj food &amp; xxmaj drinks : 4 stars \\n  xxmaj service : negative 5 stars \\n \\n  xxmaj we 've been to xxmaj havana xxmaj cafe twice , however , the service that we received on our most recent visit is enough to make us rethink attempting to dine there again . xxmaj on our first visit , we sat at the bar and had some mojitos</td>\n",
       "      <td>3</td>\n",
       "    </tr>\n",
       "    <tr>\n",
       "      <td>xxbos xxmaj my hubby and i decided to celebrate our wedding anniversary at xxmaj andre 's after reading a great amount of rave reviews about this restaurant . xxmaj what also had us interested was the fact that this restaurant received the xxup aaa 4 xxmaj diamond award , had been recognized by the xxmaj michelin xxmaj guide with one star rating , and is xxunk as xxmaj las xxmaj</td>\n",
       "      <td>2</td>\n",
       "    </tr>\n",
       "  </tbody>\n",
       "</table>"
      ],
      "text/plain": [
       "<IPython.core.display.HTML object>"
      ]
     },
     "metadata": {},
     "output_type": "display_data"
    },
    {
     "name": "stdout",
     "output_type": "stream",
     "text": [
      "CPU times: user 9.58 s, sys: 1.62 s, total: 11.2 s\n",
      "Wall time: 29.2 s\n"
     ]
    }
   ],
   "source": [
    "%%time\n",
    "data = TextClasDataBunch.from_csv(path, 'train_sample.csv', \n",
    "                                  text_cols='text', label_cols='rating')\n",
    "data.show_batch()"
   ]
  },
  {
   "cell_type": "markdown",
   "metadata": {},
   "source": [
    "### Numericalization into `vocab`\n",
    "\n",
    "* Creating unique tokens for words\n",
    "* Top 60,000 used by default - unknown token `xxunk` used for remainders\n",
    "* Special characters are also tokenised (spaces, punctuation, new lines)\n",
    "* `xxbos` is the token for beginning of sentence etc.."
   ]
  },
  {
   "cell_type": "code",
   "execution_count": 9,
   "metadata": {},
   "outputs": [
    {
     "data": {
      "text/plain": [
       "['xxunk',\n",
       " 'xxpad',\n",
       " 'xxbos',\n",
       " 'xxeos',\n",
       " 'xxfld',\n",
       " 'xxmaj',\n",
       " 'xxup',\n",
       " 'xxrep',\n",
       " 'xxwrep',\n",
       " '.']"
      ]
     },
     "execution_count": 9,
     "metadata": {},
     "output_type": "execute_result"
    }
   ],
   "source": [
    "# Top 10 words\n",
    "data.vocab.itos[:10]"
   ]
  },
  {
   "cell_type": "code",
   "execution_count": 10,
   "metadata": {},
   "outputs": [
    {
     "data": {
      "text/plain": [
       "\"xxbos xxmaj service was horrible . xxmaj took forever to get a server . xxmaj wings were undercooked . xxmaj wo n't come back\""
      ]
     },
     "execution_count": 10,
     "metadata": {},
     "output_type": "execute_result"
    }
   ],
   "source": [
    "# Example tokenised review\n",
    "data.train_ds[0][0].text[:200]"
   ]
  },
  {
   "cell_type": "code",
   "execution_count": 11,
   "metadata": {},
   "outputs": [
    {
     "data": {
      "text/plain": [
       "array([   2,    5,   70,   16,  488,    9,    5,  186, 1010,   15])"
      ]
     },
     "execution_count": 11,
     "metadata": {},
     "output_type": "execute_result"
    }
   ],
   "source": [
    "# Example numerical token mapping onto index\n",
    "data.train_ds[0][0].data[:10]"
   ]
  },
  {
   "cell_type": "markdown",
   "metadata": {},
   "source": [
    "## For sentiment analysis we are creating two models\n",
    "1. A language model `data_lm` (fine-tuned encoder, no labels)\n",
    "2. A text classification model `data_clas` (with labels)\n",
    "\n",
    "### 1. Language Model\n",
    "* Model `AWD_LSTM` is pretrained on a processed subset of wikipedia `wikitext-103`\n",
    "* This RNN model is trained to predict what the next word in the sequence is\n",
    "* It has a recurrent structure and a hidden state (updated each time it sees a new word), which contains information about the sentence\n"
   ]
  },
  {
   "cell_type": "code",
   "execution_count": 12,
   "metadata": {},
   "outputs": [],
   "source": [
    "# Decrease batchsize if GPU can't handle the load\n",
    "bs = 24       # range 12 - 48"
   ]
  },
  {
   "cell_type": "code",
   "execution_count": 13,
   "metadata": {
    "scrolled": false
   },
   "outputs": [
    {
     "data": {
      "text/html": [],
      "text/plain": [
       "<IPython.core.display.HTML object>"
      ]
     },
     "metadata": {},
     "output_type": "display_data"
    },
    {
     "data": {
      "text/html": [],
      "text/plain": [
       "<IPython.core.display.HTML object>"
      ]
     },
     "metadata": {},
     "output_type": "display_data"
    },
    {
     "name": "stdout",
     "output_type": "stream",
     "text": [
      "Training and validation shape:\n",
      " (26000, 2) (6500, 2)\n"
     ]
    },
    {
     "data": {
      "text/html": [
       "<table border=\"1\" class=\"dataframe\">\n",
       "  <thead>\n",
       "    <tr style=\"text-align: right;\">\n",
       "      <th>idx</th>\n",
       "      <th>text</th>\n",
       "    </tr>\n",
       "  </thead>\n",
       "  <tbody>\n",
       "    <tr>\n",
       "      <td>0</td>\n",
       "      <td>caught his attention , that he was being tipped to get in and that they have to tip him to get in ! i literally was lost for words . xxmaj this club is not organized or worth going into ! i 'm not going to sit there and tip this dude to get in .. and especially to a snob like him . xxbos xxmaj two expensive sides thrown</td>\n",
       "    </tr>\n",
       "  </tbody>\n",
       "</table>"
      ],
      "text/plain": [
       "<IPython.core.display.HTML object>"
      ]
     },
     "metadata": {},
     "output_type": "display_data"
    },
    {
     "name": "stdout",
     "output_type": "stream",
     "text": [
      "CPU times: user 4.18 s, sys: 1.03 s, total: 5.2 s\n",
      "Wall time: 24.7 s\n"
     ]
    }
   ],
   "source": [
    "%%time\n",
    "# Language Model data\n",
    "data_lm = TextLMDataBunch.from_df(path, df_trn, df_val)\n",
    "\n",
    "print('Training and validation shape:\\n', df_trn.shape, df_val.shape)\n",
    "data_lm.show_batch(rows=1)"
   ]
  },
  {
   "cell_type": "code",
   "execution_count": 14,
   "metadata": {},
   "outputs": [],
   "source": [
    "# Transfer learning Model AWD_LSTM pre-trained on WikiText103\n",
    "\n",
    "learn = language_model_learner(data_lm, AWD_LSTM, drop_mult=0.3)"
   ]
  },
  {
   "cell_type": "code",
   "execution_count": 15,
   "metadata": {},
   "outputs": [
    {
     "data": {
      "text/html": [],
      "text/plain": [
       "<IPython.core.display.HTML object>"
      ]
     },
     "metadata": {},
     "output_type": "display_data"
    },
    {
     "name": "stdout",
     "output_type": "stream",
     "text": [
      "LR Finder is complete, type {learner_name}.recorder.plot() to see the graph.\n",
      "CPU times: user 42.3 s, sys: 20.4 s, total: 1min 2s\n",
      "Wall time: 1min 5s\n"
     ]
    },
    {
     "data": {
      "image/png": "[encoded data removed]",
      "text/plain": [
       "<Figure size 432x288 with 1 Axes>"
      ]
     },
     "metadata": {
      "needs_background": "light"
     },
     "output_type": "display_data"
    }
   ],
   "source": [
    "%%time\n",
    "# Find best learning rate from slope\n",
    "learn.lr_find()\n",
    "learn.recorder.plot(skip_end=15)"
   ]
  },
  {
   "cell_type": "code",
   "execution_count": 16,
   "metadata": {},
   "outputs": [
    {
     "data": {
      "text/plain": [
       "SequentialRNN\n",
       "======================================================================\n",
       "Layer (type)         Output Shape         Param #    Trainable \n",
       "======================================================================\n",
       "RNNDropout           [70, 400]            0          False     \n",
       "______________________________________________________________________\n",
       "RNNDropout           [70, 1152]           0          False     \n",
       "______________________________________________________________________\n",
       "RNNDropout           [70, 1152]           0          False     \n",
       "______________________________________________________________________\n",
       "Linear               [70, 47568]          19,074,768 True      \n",
       "______________________________________________________________________\n",
       "RNNDropout           [70, 400]            0          False     \n",
       "______________________________________________________________________\n",
       "\n",
       "Total params: 19,074,768\n",
       "Total trainable params: 19,074,768\n",
       "Total non-trainable params: 0\n",
       "Optimized with 'torch.optim.adam.Adam', betas=(0.9, 0.99)\n",
       "Using true weight decay as discussed in https://www.fast.ai/2018/07/02/adam-weight-decay/ \n",
       "Loss function : FlattenedLoss\n",
       "======================================================================\n",
       "Callbacks functions applied \n",
       "    RNNTrainer"
      ]
     },
     "execution_count": 16,
     "metadata": {},
     "output_type": "execute_result"
    }
   ],
   "source": [
    "# Only the last layer is unfrozen during training\n",
    "learn.summary()"
   ]
  },
  {
   "cell_type": "code",
   "execution_count": 15,
   "metadata": {},
   "outputs": [
    {
     "data": {
      "text/html": [
       "<table border=\"1\" class=\"dataframe\">\n",
       "  <thead>\n",
       "    <tr style=\"text-align: left;\">\n",
       "      <th>epoch</th>\n",
       "      <th>train_loss</th>\n",
       "      <th>valid_loss</th>\n",
       "      <th>accuracy</th>\n",
       "      <th>time</th>\n",
       "    </tr>\n",
       "  </thead>\n",
       "  <tbody>\n",
       "    <tr>\n",
       "      <td>0</td>\n",
       "      <td>4.003754</td>\n",
       "      <td>3.870956</td>\n",
       "      <td>0.282358</td>\n",
       "      <td>08:34</td>\n",
       "    </tr>\n",
       "  </tbody>\n",
       "</table>"
      ],
      "text/plain": [
       "<IPython.core.display.HTML object>"
      ]
     },
     "metadata": {},
     "output_type": "display_data"
    }
   ],
   "source": [
    "# Training/fine-tuning final layer to yelp reviews\n",
    "\n",
    "learn.fit_one_cycle(1, 1e-2, moms=(0.8,0.7))"
   ]
  },
  {
   "cell_type": "markdown",
   "metadata": {},
   "source": [
    "* `Accuracy` here is the ability for the model to predict the next word in the sequence"
   ]
  },
  {
   "cell_type": "code",
   "execution_count": 16,
   "metadata": {},
   "outputs": [
    {
     "data": {
      "text/html": [
       "<table border=\"1\" class=\"dataframe\">\n",
       "  <thead>\n",
       "    <tr style=\"text-align: left;\">\n",
       "      <th>epoch</th>\n",
       "      <th>train_loss</th>\n",
       "      <th>valid_loss</th>\n",
       "      <th>accuracy</th>\n",
       "      <th>time</th>\n",
       "    </tr>\n",
       "  </thead>\n",
       "  <tbody>\n",
       "    <tr>\n",
       "      <td>0</td>\n",
       "      <td>3.826181</td>\n",
       "      <td>3.847477</td>\n",
       "      <td>0.284040</td>\n",
       "      <td>08:35</td>\n",
       "    </tr>\n",
       "    <tr>\n",
       "      <td>1</td>\n",
       "      <td>3.798512</td>\n",
       "      <td>3.827782</td>\n",
       "      <td>0.285751</td>\n",
       "      <td>08:40</td>\n",
       "    </tr>\n",
       "    <tr>\n",
       "      <td>2</td>\n",
       "      <td>3.764477</td>\n",
       "      <td>3.824101</td>\n",
       "      <td>0.286011</td>\n",
       "      <td>08:34</td>\n",
       "    </tr>\n",
       "  </tbody>\n",
       "</table>"
      ],
      "text/plain": [
       "<IPython.core.display.HTML object>"
      ]
     },
     "metadata": {},
     "output_type": "display_data"
    },
    {
     "name": "stdout",
     "output_type": "stream",
     "text": [
      "CPU times: user 17min 24s, sys: 8min 31s, total: 25min 56s\n",
      "Wall time: 25min 50s\n"
     ]
    }
   ],
   "source": [
    "%%time\n",
    "# Run until valid_loss comes down to training_loss (past this is overfitting to training set)\n",
    "\n",
    "learn.fit_one_cycle(3, 1e-3, moms=(0.8,0.7))"
   ]
  },
  {
   "cell_type": "code",
   "execution_count": 17,
   "metadata": {},
   "outputs": [],
   "source": [
    "learn.save_encoder('fine_tuned_enc')"
   ]
  },
  {
   "cell_type": "markdown",
   "metadata": {},
   "source": [
    "* Now, the encoder is fine tuned to `Yelp Reviews`\n",
    "* The encoder can be used to predict the next word in a sentence\n",
    "* The next step is to remove the final layers of the encoder, and replace them with a classification/regression model"
   ]
  },
  {
   "cell_type": "code",
   "execution_count": 18,
   "metadata": {},
   "outputs": [
    {
     "data": {
      "text/plain": [
       "(26000, 2)"
      ]
     },
     "execution_count": 18,
     "metadata": {},
     "output_type": "execute_result"
    }
   ],
   "source": [
    "data_lm.train_ds.inner_df.shape"
   ]
  },
  {
   "cell_type": "code",
   "execution_count": 19,
   "metadata": {},
   "outputs": [
    {
     "data": {
      "text/plain": [
       "(6500, 2)"
      ]
     },
     "execution_count": 19,
     "metadata": {},
     "output_type": "execute_result"
    }
   ],
   "source": [
    "data_lm.valid_ds.inner_df.shape"
   ]
  },
  {
   "cell_type": "code",
   "execution_count": 26,
   "metadata": {},
   "outputs": [
    {
     "data": {
      "text/plain": [
       "'I really loved the restaurant, the food was ok'"
      ]
     },
     "execution_count": 26,
     "metadata": {},
     "output_type": "execute_result"
    }
   ],
   "source": [
    "learn.predict(\"I really loved the restaurant, the food was\")"
   ]
  },
  {
   "cell_type": "markdown",
   "metadata": {},
   "source": [
    "### Predicting `next word` with language model"
   ]
  },
  {
   "cell_type": "code",
   "execution_count": 42,
   "metadata": {},
   "outputs": [
    {
     "data": {
      "text/plain": [
       "'I really loved the restaurant, the food was fantastic'"
      ]
     },
     "execution_count": 42,
     "metadata": {},
     "output_type": "execute_result"
    }
   ],
   "source": [
    "learn.predict(\"I really loved the restaurant, the food was\")"
   ]
  },
  {
   "cell_type": "code",
   "execution_count": 29,
   "metadata": {},
   "outputs": [
    {
     "data": {
      "text/plain": [
       "'I hated the restaurant, the food tasted pretentious'"
      ]
     },
     "execution_count": 29,
     "metadata": {},
     "output_type": "execute_result"
    }
   ],
   "source": [
    "learn.predict(\"I hated the restaurant, the food tasted\")"
   ]
  },
  {
   "cell_type": "markdown",
   "metadata": {},
   "source": [
    "### Generating fake yelp reviews with `RNN` output sequence"
   ]
  },
  {
   "cell_type": "code",
   "execution_count": 37,
   "metadata": {},
   "outputs": [
    {
     "name": "stdout",
     "output_type": "stream",
     "text": [
      "The food is good and the staff is friendly . They make it a great alternative to the Asian food fare , and the food is delicious . It 's always a good place to eat . \n",
      " \n",
      "  Its fun , very tasty\n"
     ]
    }
   ],
   "source": [
    "text = \"The food is good and the staff\"\n",
    "words = 40\n",
    "\n",
    "print(learn.predict(text, words, temperature=0.75))"
   ]
  },
  {
   "cell_type": "markdown",
   "metadata": {},
   "source": [
    "# 2. Classification Model for `Sentiment Analysis`"
   ]
  },
  {
   "cell_type": "code",
   "execution_count": 38,
   "metadata": {},
   "outputs": [
    {
     "data": {
      "text/html": [],
      "text/plain": [
       "<IPython.core.display.HTML object>"
      ]
     },
     "metadata": {},
     "output_type": "display_data"
    },
    {
     "data": {
      "text/html": [],
      "text/plain": [
       "<IPython.core.display.HTML object>"
      ]
     },
     "metadata": {},
     "output_type": "display_data"
    },
    {
     "data": {
      "text/html": [
       "<table border=\"1\" class=\"dataframe\">\n",
       "  <thead>\n",
       "    <tr style=\"text-align: right;\">\n",
       "      <th>text</th>\n",
       "      <th>target</th>\n",
       "    </tr>\n",
       "  </thead>\n",
       "  <tbody>\n",
       "    <tr>\n",
       "      <td>xxbos xxmaj fugg this place ! i xxmaj was here 12 / 24 / 14 . xxmaj our room was n't ready yet so we went in to kill time . \\n \\n  i got a latte and slice of banana nut brand . xxmaj the total came to $ 9.19 . i used my debit card . i added on a $ 2.00 tip to the bill .</td>\n",
       "      <td>1</td>\n",
       "    </tr>\n",
       "  </tbody>\n",
       "</table>"
      ],
      "text/plain": [
       "<IPython.core.display.HTML object>"
      ]
     },
     "metadata": {},
     "output_type": "display_data"
    },
    {
     "name": "stdout",
     "output_type": "stream",
     "text": [
      "CPU times: user 6.98 s, sys: 1.22 s, total: 8.2 s\n",
      "Wall time: 26.5 s\n"
     ]
    }
   ],
   "source": [
    "%%time\n",
    "# 2. Classification Model\n",
    "data_clas = TextClasDataBunch.from_df(path, df_trn, df_val, vocab=data_lm.train_ds.vocab)\n",
    "data_clas.show_batch(rows=1)"
   ]
  },
  {
   "cell_type": "markdown",
   "metadata": {},
   "source": [
    "* Instantiate new learner, and load embeddings from fine-tuning"
   ]
  },
  {
   "cell_type": "code",
   "execution_count": 39,
   "metadata": {},
   "outputs": [],
   "source": [
    "learn_c = text_classifier_learner(data_clas, AWD_LSTM, drop_mult=0.3)\n",
    "learn_c.load_encoder('fine_tuned_enc')\n",
    "learn_c.freeze()"
   ]
  },
  {
   "cell_type": "code",
   "execution_count": 52,
   "metadata": {},
   "outputs": [
    {
     "data": {
      "text/html": [],
      "text/plain": [
       "<IPython.core.display.HTML object>"
      ]
     },
     "metadata": {},
     "output_type": "display_data"
    },
    {
     "name": "stdout",
     "output_type": "stream",
     "text": [
      "LR Finder is complete, type {learner_name}.recorder.plot() to see the graph.\n"
     ]
    },
    {
     "data": {
      "image/png": "[encoded data removed]",
      "text/plain": [
       "<Figure size 432x288 with 1 Axes>"
      ]
     },
     "metadata": {
      "needs_background": "light"
     },
     "output_type": "display_data"
    }
   ],
   "source": [
    "learn_c.lr_find()\n",
    "learn_c.recorder.plot(skip_end=15)"
   ]
  },
  {
   "cell_type": "code",
   "execution_count": 40,
   "metadata": {},
   "outputs": [
    {
     "data": {
      "text/html": [
       "<table border=\"1\" class=\"dataframe\">\n",
       "  <thead>\n",
       "    <tr style=\"text-align: left;\">\n",
       "      <th>epoch</th>\n",
       "      <th>train_loss</th>\n",
       "      <th>valid_loss</th>\n",
       "      <th>accuracy</th>\n",
       "      <th>time</th>\n",
       "    </tr>\n",
       "  </thead>\n",
       "  <tbody>\n",
       "    <tr>\n",
       "      <td>0</td>\n",
       "      <td>1.142674</td>\n",
       "      <td>1.035260</td>\n",
       "      <td>0.543692</td>\n",
       "      <td>03:37</td>\n",
       "    </tr>\n",
       "  </tbody>\n",
       "</table>"
      ],
      "text/plain": [
       "<IPython.core.display.HTML object>"
      ]
     },
     "metadata": {},
     "output_type": "display_data"
    }
   ],
   "source": [
    "learn_c.fit_one_cycle(1, 2e-2, moms=(0.8,0.7))"
   ]
  },
  {
   "cell_type": "code",
   "execution_count": 41,
   "metadata": {},
   "outputs": [],
   "source": [
    "learn_c.save('first')"
   ]
  },
  {
   "cell_type": "code",
   "execution_count": 42,
   "metadata": {},
   "outputs": [],
   "source": [
    "learn_c.load('first');"
   ]
  },
  {
   "cell_type": "markdown",
   "metadata": {},
   "source": [
    "* Gradual unfreezing is used to preserve low-level representations and adapt high-level ones"
   ]
  },
  {
   "cell_type": "code",
   "execution_count": 43,
   "metadata": {},
   "outputs": [
    {
     "data": {
      "text/html": [
       "<table border=\"1\" class=\"dataframe\">\n",
       "  <thead>\n",
       "    <tr style=\"text-align: left;\">\n",
       "      <th>epoch</th>\n",
       "      <th>train_loss</th>\n",
       "      <th>valid_loss</th>\n",
       "      <th>accuracy</th>\n",
       "      <th>time</th>\n",
       "    </tr>\n",
       "  </thead>\n",
       "  <tbody>\n",
       "    <tr>\n",
       "      <td>0</td>\n",
       "      <td>1.037245</td>\n",
       "      <td>0.927359</td>\n",
       "      <td>0.593538</td>\n",
       "      <td>04:26</td>\n",
       "    </tr>\n",
       "  </tbody>\n",
       "</table>"
      ],
      "text/plain": [
       "<IPython.core.display.HTML object>"
      ]
     },
     "metadata": {},
     "output_type": "display_data"
    }
   ],
   "source": [
    "learn_c.freeze_to(-2)\n",
    "learn_c.fit_one_cycle(1, slice(1e-2/(2.6**4),1e-2), moms=(0.8,0.7))"
   ]
  },
  {
   "cell_type": "code",
   "execution_count": 44,
   "metadata": {},
   "outputs": [],
   "source": [
    "learn_c.save('2nd')"
   ]
  },
  {
   "cell_type": "code",
   "execution_count": 45,
   "metadata": {},
   "outputs": [
    {
     "data": {
      "text/html": [
       "<table border=\"1\" class=\"dataframe\">\n",
       "  <thead>\n",
       "    <tr style=\"text-align: left;\">\n",
       "      <th>epoch</th>\n",
       "      <th>train_loss</th>\n",
       "      <th>valid_loss</th>\n",
       "      <th>accuracy</th>\n",
       "      <th>time</th>\n",
       "    </tr>\n",
       "  </thead>\n",
       "  <tbody>\n",
       "    <tr>\n",
       "      <td>0</td>\n",
       "      <td>0.923852</td>\n",
       "      <td>0.862713</td>\n",
       "      <td>0.620308</td>\n",
       "      <td>05:36</td>\n",
       "    </tr>\n",
       "  </tbody>\n",
       "</table>"
      ],
      "text/plain": [
       "<IPython.core.display.HTML object>"
      ]
     },
     "metadata": {},
     "output_type": "display_data"
    }
   ],
   "source": [
    "learn_c.freeze_to(-3)\n",
    "learn_c.fit_one_cycle(1, slice(5e-3/(2.6**4),5e-3), moms=(0.8,0.7))"
   ]
  },
  {
   "cell_type": "markdown",
   "metadata": {},
   "source": [
    "The accuracy suggests the model guesses the correct star value 62% of the time"
   ]
  },
  {
   "cell_type": "markdown",
   "metadata": {},
   "source": [
    "# Review Predictions"
   ]
  },
  {
   "cell_type": "code",
   "execution_count": 170,
   "metadata": {},
   "outputs": [
    {
     "data": {
      "text/plain": [
       "(Category 5,\n",
       " tensor(4),\n",
       " tensor([6.1841e-05, 1.9086e-04, 7.6181e-03, 2.1801e-01, 7.7412e-01]))"
      ]
     },
     "execution_count": 170,
     "metadata": {},
     "output_type": "execute_result"
    }
   ],
   "source": [
    "# Example review\n",
    "learn_c.predict(\"I really loved the restaurant, it was awesome!\")"
   ]
  },
  {
   "cell_type": "code",
   "execution_count": 47,
   "metadata": {},
   "outputs": [
    {
     "data": {
      "text/plain": [
       "(Category 1,\n",
       " tensor(0),\n",
       " tensor([9.1713e-01, 8.0456e-02, 2.3241e-03, 6.7944e-05, 1.9538e-05]))"
      ]
     },
     "execution_count": 47,
     "metadata": {},
     "output_type": "execute_result"
    }
   ],
   "source": [
    "learn_c.predict(\"I really hated the restaurant, it was disgusting!\")"
   ]
  },
  {
   "cell_type": "code",
   "execution_count": 171,
   "metadata": {},
   "outputs": [
    {
     "data": {
      "text/plain": [
       "(Category 3, tensor(2), tensor([0.0071, 0.2063, 0.7228, 0.0605, 0.0033]))"
      ]
     },
     "execution_count": 171,
     "metadata": {},
     "output_type": "execute_result"
    }
   ],
   "source": [
    "learn_c.predict(\"I went there with my friends, it was okay.\")"
   ]
  },
  {
   "cell_type": "code",
   "execution_count": 51,
   "metadata": {},
   "outputs": [
    {
     "name": "stdout",
     "output_type": "stream",
     "text": [
      "\n",
      "Prediction: 3\n",
      "    Actual: 3\n",
      "(28591) Definitely overpriced for what it is.\\n\\nI had been to the Dilworth location before and really enjoyed it. This time i had a Creative Loafing deal and decided to try the Stonecrest location. I was definitely underwhelmed. We had a reservation for 7:00. When we arrived we were promptly seated. I immediately felt like i was at Chuck E Cheese or Red Robin. Kids Galore!! So much for date night. Our tables were so close together it was a little uncomfortable. \\n\\nWe ordered the Fajitas for two with Steak and Beef. The little tapas they brought out were pretty tasty. The fajitas were a little overpriced in my opinion. We maybe had 10 pieces of chicken on a platter of zucchini, onions and mushrooms. $30 for some veggies is a little crazy. \\n\\nI would maybe go back but not likely.\n",
      "\n",
      "Prediction: 3\n",
      "    Actual: 4\n",
      "(16844) I have waited to give this place a second visit before writing a review, because the first visit (Jan 09) was so stellar that it was almost too good to be true. The second visit was a little more than a solid 3 star (especially when considering the price), so I think I'll be generous with the average and maybe give this place one more shot before moving on to other high-end dining in Las Vegas. \\n\\nIn fact, I was just in NYC last month, but I didn't even bother to call Rao's as I knew it was futile.....I was geared up for my trip to Las Vegas in the coming weeks.\\n\\nAs mentioned, the first visit was phenomenal. The service was almost too attentive, our waiter told us about the history of Rao's (I grew up in CT, kinda of knew, but not really), gave us an excellent rundown of the menu and allowed us to be unpretentious with our wine choices. Two of us were sat in a booth in a busy, but sociable room off to the left side. \\n\\nWe went for the full-bellied Italian order of the Mozzarella in Carrozza, arugula salad, veal parm (on the bone!), with the tomato and ham vodka cream pasta. Oh, and don't forget the meatballs and gravy..... \\n\\nAlthough we were in a food coma (need to upload picture to prove it), we enjoyed the meal and wine thoroughly (and dreamt about the meatballs for months). We couldn't wait to come again. \\n\\nOur next visit was in July 09. We had a Caesar's concierge make our reservations and dined at a more reasonable hour before 9pm. Although the house was packed, we had a very competent, but indifferent waiter who may have spent too many years in the business to add anything special to the experience. With no other guidance other than \\\"whataya want?\\\", we fumbled our way without an app (no recommendation, no order), warm white wine (I had face my trashy side and put ice cubes in the wine) an uninspiring salad, and somehow, the \\\"parm and balls\\\" just didn't hit the same high notes. After moving to red, we didn't even finish the bottle. \\n\\nMaybe it was the summer season, the heat taking it's toll, the down economy on Vegas, or something hidden, but the place didn't have the twinkle of that first visit. \\n\\nOh Rao's, if you want America to buy those sauces and pastas now found from Kroger to Shop Rite, you better give people a memorable experience in your carnival sized restaurant. \\n\\nAlas, I'll give it one more try, if I'm not broke off playing craps by the time dinner rolls around that evening....\n",
      "\n",
      "Prediction: 3\n",
      "    Actual: 3\n",
      "(19146) Typical Red Robin, so not much to say. The rib tips are crappy, but the beer was nice and cold.\n",
      "\n",
      "Prediction: 5\n",
      "    Actual: 5\n",
      "(11718) I've been eating at The Golden Phoenix for as long as i can remember!   It is a family-owned restaurant, they are wonderful people, very friendly and their food is always great!! I usually only go for the dinner, Food isnt the only thing they do right!   Service is 5-stars. Clean as can be, and still looks like they just opened their doors!\n",
      "\n",
      "Prediction: 2\n",
      "    Actual: 2\n",
      "(27054) I want to give this place a rave review, I really truly do.. because I love the whole concept and idea of diners and that style of casual relaxed dining... but... I.just.can't....\\n\\nI've been here twice, the first time was a few months ago.. where we had fabulous service and I was merely \\\"whelmed\\\" (did Clueless ever clarify if one could just be 'whelmed'??) by the food...  my bangers & mash arrived rather lukewarm with rather dry mash and lukewarm gravy just made it all a bit meh....  D's pie looked rather more impressive with a HUGE pastry top!\\n\\nWent again last night with a couple of friends visiting from out of town as they have a 10month old and I thought it would be child friendly..  We were directed to a table at the back (room to park the pram & room for a high chair), which was only half set and still had food on the table... Umm.. Not wanting to make a fuss, we sat anyway and I thought surely she'd bring a cloth to wipe the table when she brought the menus... No... I had to ASK for her to clean the table... Then I has to ask for cutlery when our starters arrived.. (I was secretly hoping she would have noticed we didn't have cutlery while wiping the table and bring us some before our food arrived...) Maybe she just thought deep fried camembert is best consumed using fingers...??\\n\\nD's bangers & mash arrived around about lukewarm and judging by the amount of gravy him and P went thru, I assume the mash was pretty dry.... My venison pie was ok.. no complaints but nothing I'm rushing back for...M said her buffalo burger was very good, so maybe will have to try that next time...\\n\\nD was going to order dark choc & cherry ice cream but they \\\"should really change the menu because we've not had it for ages now\\\"... Gah!!  At which point we asked for the bill... which was bought... but then no offer of change or a card machine.. or... well... anything....  we sat around for a while then decided just to pay at the bar on the way out as the baby needed to get back for his bedtime and I wasn't sure she was EVER going to come and take our money... (maybe she was trying to hint that dinner was on her??!!)\\n\\nNot to be a total negative Nelly...  The milkshakes were delicious as always! :)\n"
     ]
    }
   ],
   "source": [
    "# Random sample from the hold-out test set\n",
    "\n",
    "for index, row in df_test.sample(5).iterrows():\n",
    "    print(\"\\nPrediction:\", learn_c.predict(row[1])[0])\n",
    "    print(\"    Actual:\", row[0])\n",
    "    print(f\"({index})\", row[1])"
   ]
  },
  {
   "cell_type": "code",
   "execution_count": 52,
   "metadata": {
    "scrolled": true
   },
   "outputs": [
    {
     "data": {
      "text/html": [],
      "text/plain": [
       "<IPython.core.display.HTML object>"
      ]
     },
     "metadata": {},
     "output_type": "display_data"
    }
   ],
   "source": [
    "# Get predictions on validation set\n",
    "preds, targets = learn_c.get_preds()\n",
    "predictions = np.argmax(preds, axis = 1)"
   ]
  },
  {
   "cell_type": "markdown",
   "metadata": {},
   "source": [
    "### Validation set: `Actual` vs. `Prediction`"
   ]
  },
  {
   "cell_type": "code",
   "execution_count": 76,
   "metadata": {},
   "outputs": [
    {
     "data": {
      "text/html": [
       "<style  type=\"text/css\" >\n",
       "    #T_bf0ae3aa_1182_11ea_aa51_636fa2e69635row0_col0 {\n",
       "            background-color:  #023858;\n",
       "            color:  #f1f1f1;\n",
       "        }    #T_bf0ae3aa_1182_11ea_aa51_636fa2e69635row0_col1 {\n",
       "            background-color:  #bdc8e1;\n",
       "            color:  #000000;\n",
       "        }    #T_bf0ae3aa_1182_11ea_aa51_636fa2e69635row0_col2 {\n",
       "            background-color:  #fff7fb;\n",
       "            color:  #000000;\n",
       "        }    #T_bf0ae3aa_1182_11ea_aa51_636fa2e69635row0_col3 {\n",
       "            background-color:  #fff7fb;\n",
       "            color:  #000000;\n",
       "        }    #T_bf0ae3aa_1182_11ea_aa51_636fa2e69635row0_col4 {\n",
       "            background-color:  #fff7fb;\n",
       "            color:  #000000;\n",
       "        }    #T_bf0ae3aa_1182_11ea_aa51_636fa2e69635row1_col0 {\n",
       "            background-color:  #c0c9e2;\n",
       "            color:  #000000;\n",
       "        }    #T_bf0ae3aa_1182_11ea_aa51_636fa2e69635row1_col1 {\n",
       "            background-color:  #023858;\n",
       "            color:  #f1f1f1;\n",
       "        }    #T_bf0ae3aa_1182_11ea_aa51_636fa2e69635row1_col2 {\n",
       "            background-color:  #b1c2de;\n",
       "            color:  #000000;\n",
       "        }    #T_bf0ae3aa_1182_11ea_aa51_636fa2e69635row1_col3 {\n",
       "            background-color:  #fbf4f9;\n",
       "            color:  #000000;\n",
       "        }    #T_bf0ae3aa_1182_11ea_aa51_636fa2e69635row1_col4 {\n",
       "            background-color:  #fef6fb;\n",
       "            color:  #000000;\n",
       "        }    #T_bf0ae3aa_1182_11ea_aa51_636fa2e69635row2_col0 {\n",
       "            background-color:  #fbf4f9;\n",
       "            color:  #000000;\n",
       "        }    #T_bf0ae3aa_1182_11ea_aa51_636fa2e69635row2_col1 {\n",
       "            background-color:  #c2cbe2;\n",
       "            color:  #000000;\n",
       "        }    #T_bf0ae3aa_1182_11ea_aa51_636fa2e69635row2_col2 {\n",
       "            background-color:  #023858;\n",
       "            color:  #f1f1f1;\n",
       "        }    #T_bf0ae3aa_1182_11ea_aa51_636fa2e69635row2_col3 {\n",
       "            background-color:  #91b5d6;\n",
       "            color:  #000000;\n",
       "        }    #T_bf0ae3aa_1182_11ea_aa51_636fa2e69635row2_col4 {\n",
       "            background-color:  #fbf4f9;\n",
       "            color:  #000000;\n",
       "        }    #T_bf0ae3aa_1182_11ea_aa51_636fa2e69635row3_col0 {\n",
       "            background-color:  #fff7fb;\n",
       "            color:  #000000;\n",
       "        }    #T_bf0ae3aa_1182_11ea_aa51_636fa2e69635row3_col1 {\n",
       "            background-color:  #fdf5fa;\n",
       "            color:  #000000;\n",
       "        }    #T_bf0ae3aa_1182_11ea_aa51_636fa2e69635row3_col2 {\n",
       "            background-color:  #b7c5df;\n",
       "            color:  #000000;\n",
       "        }    #T_bf0ae3aa_1182_11ea_aa51_636fa2e69635row3_col3 {\n",
       "            background-color:  #023858;\n",
       "            color:  #f1f1f1;\n",
       "        }    #T_bf0ae3aa_1182_11ea_aa51_636fa2e69635row3_col4 {\n",
       "            background-color:  #d2d2e7;\n",
       "            color:  #000000;\n",
       "        }    #T_bf0ae3aa_1182_11ea_aa51_636fa2e69635row4_col0 {\n",
       "            background-color:  #fef6fa;\n",
       "            color:  #000000;\n",
       "        }    #T_bf0ae3aa_1182_11ea_aa51_636fa2e69635row4_col1 {\n",
       "            background-color:  #fff7fb;\n",
       "            color:  #000000;\n",
       "        }    #T_bf0ae3aa_1182_11ea_aa51_636fa2e69635row4_col2 {\n",
       "            background-color:  #fef6fa;\n",
       "            color:  #000000;\n",
       "        }    #T_bf0ae3aa_1182_11ea_aa51_636fa2e69635row4_col3 {\n",
       "            background-color:  #4897c4;\n",
       "            color:  #000000;\n",
       "        }    #T_bf0ae3aa_1182_11ea_aa51_636fa2e69635row4_col4 {\n",
       "            background-color:  #023858;\n",
       "            color:  #f1f1f1;\n",
       "        }</style><table id=\"T_bf0ae3aa_1182_11ea_aa51_636fa2e69635\" ><thead>    <tr>        <th class=\"index_name level0\" >Actual</th>        <th class=\"col_heading level0 col0\" >0</th>        <th class=\"col_heading level0 col1\" >1</th>        <th class=\"col_heading level0 col2\" >2</th>        <th class=\"col_heading level0 col3\" >3</th>        <th class=\"col_heading level0 col4\" >4</th>    </tr>    <tr>        <th class=\"index_name level0\" >Predicted</th>        <th class=\"blank\" ></th>        <th class=\"blank\" ></th>        <th class=\"blank\" ></th>        <th class=\"blank\" ></th>        <th class=\"blank\" ></th>    </tr></thead><tbody>\n",
       "                <tr>\n",
       "                        <th id=\"T_bf0ae3aa_1182_11ea_aa51_636fa2e69635level0_row0\" class=\"row_heading level0 row0\" >0</th>\n",
       "                        <td id=\"T_bf0ae3aa_1182_11ea_aa51_636fa2e69635row0_col0\" class=\"data row0 col0\" >959</td>\n",
       "                        <td id=\"T_bf0ae3aa_1182_11ea_aa51_636fa2e69635row0_col1\" class=\"data row0 col1\" >245</td>\n",
       "                        <td id=\"T_bf0ae3aa_1182_11ea_aa51_636fa2e69635row0_col2\" class=\"data row0 col2\" >44</td>\n",
       "                        <td id=\"T_bf0ae3aa_1182_11ea_aa51_636fa2e69635row0_col3\" class=\"data row0 col3\" >13</td>\n",
       "                        <td id=\"T_bf0ae3aa_1182_11ea_aa51_636fa2e69635row0_col4\" class=\"data row0 col4\" >7</td>\n",
       "            </tr>\n",
       "            <tr>\n",
       "                        <th id=\"T_bf0ae3aa_1182_11ea_aa51_636fa2e69635level0_row1\" class=\"row_heading level0 row1\" >1</th>\n",
       "                        <td id=\"T_bf0ae3aa_1182_11ea_aa51_636fa2e69635row1_col0\" class=\"data row1 col0\" >289</td>\n",
       "                        <td id=\"T_bf0ae3aa_1182_11ea_aa51_636fa2e69635row1_col1\" class=\"data row1 col1\" >760</td>\n",
       "                        <td id=\"T_bf0ae3aa_1182_11ea_aa51_636fa2e69635row1_col2\" class=\"data row1 col2\" >264</td>\n",
       "                        <td id=\"T_bf0ae3aa_1182_11ea_aa51_636fa2e69635row1_col3\" class=\"data row1 col3\" >29</td>\n",
       "                        <td id=\"T_bf0ae3aa_1182_11ea_aa51_636fa2e69635row1_col4\" class=\"data row1 col4\" >11</td>\n",
       "            </tr>\n",
       "            <tr>\n",
       "                        <th id=\"T_bf0ae3aa_1182_11ea_aa51_636fa2e69635level0_row2\" class=\"row_heading level0 row2\" >2</th>\n",
       "                        <td id=\"T_bf0ae3aa_1182_11ea_aa51_636fa2e69635row2_col0\" class=\"data row2 col0\" >29</td>\n",
       "                        <td id=\"T_bf0ae3aa_1182_11ea_aa51_636fa2e69635row2_col1\" class=\"data row2 col1\" >235</td>\n",
       "                        <td id=\"T_bf0ae3aa_1182_11ea_aa51_636fa2e69635row2_col2\" class=\"data row2 col2\" >686</td>\n",
       "                        <td id=\"T_bf0ae3aa_1182_11ea_aa51_636fa2e69635row2_col3\" class=\"data row2 col3\" >272</td>\n",
       "                        <td id=\"T_bf0ae3aa_1182_11ea_aa51_636fa2e69635row2_col4\" class=\"data row2 col4\" >34</td>\n",
       "            </tr>\n",
       "            <tr>\n",
       "                        <th id=\"T_bf0ae3aa_1182_11ea_aa51_636fa2e69635level0_row3\" class=\"row_heading level0 row3\" >3</th>\n",
       "                        <td id=\"T_bf0ae3aa_1182_11ea_aa51_636fa2e69635row3_col0\" class=\"data row3 col0\" >6</td>\n",
       "                        <td id=\"T_bf0ae3aa_1182_11ea_aa51_636fa2e69635row3_col1\" class=\"data row3 col1\" >29</td>\n",
       "                        <td id=\"T_bf0ae3aa_1182_11ea_aa51_636fa2e69635row3_col2\" class=\"data row3 col2\" >254</td>\n",
       "                        <td id=\"T_bf0ae3aa_1182_11ea_aa51_636fa2e69635row3_col3\" class=\"data row3 col3\" >619</td>\n",
       "                        <td id=\"T_bf0ae3aa_1182_11ea_aa51_636fa2e69635row3_col4\" class=\"data row3 col4\" >250</td>\n",
       "            </tr>\n",
       "            <tr>\n",
       "                        <th id=\"T_bf0ae3aa_1182_11ea_aa51_636fa2e69635level0_row4\" class=\"row_heading level0 row4\" >4</th>\n",
       "                        <td id=\"T_bf0ae3aa_1182_11ea_aa51_636fa2e69635row4_col0\" class=\"data row4 col0\" >17</td>\n",
       "                        <td id=\"T_bf0ae3aa_1182_11ea_aa51_636fa2e69635row4_col1\" class=\"data row4 col1\" >19</td>\n",
       "                        <td id=\"T_bf0ae3aa_1182_11ea_aa51_636fa2e69635row4_col2\" class=\"data row4 col2\" >51</td>\n",
       "                        <td id=\"T_bf0ae3aa_1182_11ea_aa51_636fa2e69635row4_col3\" class=\"data row4 col3\" >370</td>\n",
       "                        <td id=\"T_bf0ae3aa_1182_11ea_aa51_636fa2e69635row4_col4\" class=\"data row4 col4\" >1008</td>\n",
       "            </tr>\n",
       "    </tbody></table>"
      ],
      "text/plain": [
       "<pandas.io.formats.style.Styler at 0x7f94d77f6690>"
      ]
     },
     "execution_count": 76,
     "metadata": {},
     "output_type": "execute_result"
    }
   ],
   "source": [
    "ct = pd.crosstab(predictions, targets)\n",
    "ct.columns.name = 'Actual'\n",
    "ct.index.name = 'Predicted'\n",
    "ct.style.background_gradient()"
   ]
  },
  {
   "cell_type": "markdown",
   "metadata": {},
   "source": [
    "* Blue horizontal line counts the correct guesses\n",
    "* Samples that fall outside the diagonal are incorrect, but usually close to the right star number"
   ]
  },
  {
   "cell_type": "markdown",
   "metadata": {},
   "source": [
    "## Prediction errors in `hold-out` test set\n",
    "* The model works well but it's interesting to see it's failure cases"
   ]
  },
  {
   "cell_type": "code",
   "execution_count": 140,
   "metadata": {},
   "outputs": [
    {
     "name": "stdout",
     "output_type": "stream",
     "text": [
      "CPU times: user 1min 5s, sys: 13.6 s, total: 1min 19s\n",
      "Wall time: 1min 19s\n"
     ]
    },
    {
     "data": {
      "text/html": [
       "<div>\n",
       "<style scoped>\n",
       "    .dataframe tbody tr th:only-of-type {\n",
       "        vertical-align: middle;\n",
       "    }\n",
       "\n",
       "    .dataframe tbody tr th {\n",
       "        vertical-align: top;\n",
       "    }\n",
       "\n",
       "    .dataframe thead th {\n",
       "        text-align: right;\n",
       "    }\n",
       "</style>\n",
       "<table border=\"1\" class=\"dataframe\">\n",
       "  <thead>\n",
       "    <tr style=\"text-align: right;\">\n",
       "      <th></th>\n",
       "      <th>index</th>\n",
       "      <th>rating</th>\n",
       "      <th>text</th>\n",
       "      <th>predicition</th>\n",
       "    </tr>\n",
       "  </thead>\n",
       "  <tbody>\n",
       "    <tr>\n",
       "      <th>0</th>\n",
       "      <td>26247</td>\n",
       "      <td>3</td>\n",
       "      <td>3.5/5 for me\\n\\nMake sure to make reservations...</td>\n",
       "      <td>4.0</td>\n",
       "    </tr>\n",
       "    <tr>\n",
       "      <th>1</th>\n",
       "      <td>35067</td>\n",
       "      <td>4</td>\n",
       "      <td>Coffee, Vinyl, and Bechamel....oh, how much th...</td>\n",
       "      <td>4.0</td>\n",
       "    </tr>\n",
       "    <tr>\n",
       "      <th>2</th>\n",
       "      <td>34590</td>\n",
       "      <td>4</td>\n",
       "      <td>As the name suggests, this little-known Greek ...</td>\n",
       "      <td>5.0</td>\n",
       "    </tr>\n",
       "    <tr>\n",
       "      <th>3</th>\n",
       "      <td>16668</td>\n",
       "      <td>4</td>\n",
       "      <td>This is a great place for a cuppa joe and work...</td>\n",
       "      <td>4.0</td>\n",
       "    </tr>\n",
       "    <tr>\n",
       "      <th>4</th>\n",
       "      <td>12196</td>\n",
       "      <td>4</td>\n",
       "      <td>We avoided the Saturday Badger crowds, but eve...</td>\n",
       "      <td>3.0</td>\n",
       "    </tr>\n",
       "  </tbody>\n",
       "</table>\n",
       "</div>"
      ],
      "text/plain": [
       "   index  rating                                               text  \\\n",
       "0  26247       3  3.5/5 for me\\n\\nMake sure to make reservations...   \n",
       "1  35067       4  Coffee, Vinyl, and Bechamel....oh, how much th...   \n",
       "2  34590       4  As the name suggests, this little-known Greek ...   \n",
       "3  16668       4  This is a great place for a cuppa joe and work...   \n",
       "4  12196       4  We avoided the Saturday Badger crowds, but eve...   \n",
       "\n",
       "   predicition  \n",
       "0          4.0  \n",
       "1          4.0  \n",
       "2          5.0  \n",
       "3          4.0  \n",
       "4          3.0  "
      ]
     },
     "execution_count": 140,
     "metadata": {},
     "output_type": "execute_result"
    }
   ],
   "source": [
    "%%time\n",
    "h_df = df_test.copy().reset_index()\n",
    "preds = [int(learn_c.predict(text)[0])+1 for text in df_test.text.head(500)]\n",
    "h_df['predicition'] = pd.Series(preds)\n",
    "h_df.head()"
   ]
  },
  {
   "cell_type": "markdown",
   "metadata": {},
   "source": [
    "### Reviews rated `1` but model predicts `5`"
   ]
  },
  {
   "cell_type": "code",
   "execution_count": 166,
   "metadata": {},
   "outputs": [
    {
     "data": {
      "text/html": [
       "<div>\n",
       "<style scoped>\n",
       "    .dataframe tbody tr th:only-of-type {\n",
       "        vertical-align: middle;\n",
       "    }\n",
       "\n",
       "    .dataframe tbody tr th {\n",
       "        vertical-align: top;\n",
       "    }\n",
       "\n",
       "    .dataframe thead th {\n",
       "        text-align: right;\n",
       "    }\n",
       "</style>\n",
       "<table border=\"1\" class=\"dataframe\">\n",
       "  <thead>\n",
       "    <tr style=\"text-align: right;\">\n",
       "      <th></th>\n",
       "      <th>index</th>\n",
       "      <th>rating</th>\n",
       "      <th>text</th>\n",
       "      <th>predicition</th>\n",
       "    </tr>\n",
       "  </thead>\n",
       "  <tbody>\n",
       "    <tr>\n",
       "      <th>140</th>\n",
       "      <td>49153</td>\n",
       "      <td>1</td>\n",
       "      <td>I mapped out this JJ location to my house and ...</td>\n",
       "      <td>5.0</td>\n",
       "    </tr>\n",
       "    <tr>\n",
       "      <th>151</th>\n",
       "      <td>7348</td>\n",
       "      <td>1</td>\n",
       "      <td>I came here one day looking for a new nail sal...</td>\n",
       "      <td>5.0</td>\n",
       "    </tr>\n",
       "  </tbody>\n",
       "</table>\n",
       "</div>"
      ],
      "text/plain": [
       "     index  rating                                               text  \\\n",
       "140  49153       1  I mapped out this JJ location to my house and ...   \n",
       "151   7348       1  I came here one day looking for a new nail sal...   \n",
       "\n",
       "     predicition  \n",
       "140          5.0  \n",
       "151          5.0  "
      ]
     },
     "execution_count": 166,
     "metadata": {},
     "output_type": "execute_result"
    }
   ],
   "source": [
    "f1 = h_df[(h_df.rating == 1) & (h_df.predicition == 5)].head(3)\n",
    "f1"
   ]
  },
  {
   "cell_type": "code",
   "execution_count": 168,
   "metadata": {},
   "outputs": [
    {
     "data": {
      "text/plain": [
       "\"I mapped out this JJ location to my house and it is 2.8 miles (6 minute drive), but I called and apparently I'm out of their delivery zone. HUH? 2.8 miles and you don't deliver to me?  No wonder you can be freaky fast, you only deliver to places that are 2 blocks away.  Good business model, don't deliver to people in your same area.\""
      ]
     },
     "execution_count": 168,
     "metadata": {},
     "output_type": "execute_result"
    }
   ],
   "source": [
    "f1.iloc[0,2]"
   ]
  },
  {
   "cell_type": "markdown",
   "metadata": {},
   "source": [
    "### Reviews rated `5` but model predicts `1`"
   ]
  },
  {
   "cell_type": "code",
   "execution_count": 156,
   "metadata": {},
   "outputs": [
    {
     "data": {
      "text/html": [
       "<div>\n",
       "<style scoped>\n",
       "    .dataframe tbody tr th:only-of-type {\n",
       "        vertical-align: middle;\n",
       "    }\n",
       "\n",
       "    .dataframe tbody tr th {\n",
       "        vertical-align: top;\n",
       "    }\n",
       "\n",
       "    .dataframe thead th {\n",
       "        text-align: right;\n",
       "    }\n",
       "</style>\n",
       "<table border=\"1\" class=\"dataframe\">\n",
       "  <thead>\n",
       "    <tr style=\"text-align: right;\">\n",
       "      <th></th>\n",
       "      <th>index</th>\n",
       "      <th>rating</th>\n",
       "      <th>text</th>\n",
       "      <th>predicition</th>\n",
       "    </tr>\n",
       "  </thead>\n",
       "  <tbody>\n",
       "    <tr>\n",
       "      <th>36</th>\n",
       "      <td>10298</td>\n",
       "      <td>5</td>\n",
       "      <td>Shady, dirty, dark, and stinky. On the plus si...</td>\n",
       "      <td>1.0</td>\n",
       "    </tr>\n",
       "  </tbody>\n",
       "</table>\n",
       "</div>"
      ],
      "text/plain": [
       "    index  rating                                               text  \\\n",
       "36  10298       5  Shady, dirty, dark, and stinky. On the plus si...   \n",
       "\n",
       "    predicition  \n",
       "36          1.0  "
      ]
     },
     "execution_count": 156,
     "metadata": {},
     "output_type": "execute_result"
    }
   ],
   "source": [
    "f2 = h_df[(h_df.rating == 5) & (h_df.predicition == 1)].head(3)\n",
    "f2"
   ]
  },
  {
   "cell_type": "code",
   "execution_count": 163,
   "metadata": {},
   "outputs": [
    {
     "data": {
      "text/plain": [
       "'Shady, dirty, dark, and stinky. On the plus side, they do have cheap tables. But despite all that, you come here for  that $1 monster of a hot dog. Five stars for inspiring margarita-drunk ladies to pose promiscuously with this delicacy.'"
      ]
     },
     "execution_count": 163,
     "metadata": {},
     "output_type": "execute_result"
    }
   ],
   "source": [
    "f2.iloc[0,2]"
   ]
  }
 ],
 "metadata": {
  "kernelspec": {
   "display_name": "fastai v1",
   "language": "python",
   "name": "fastai"
  },
  "language_info": {
   "codemirror_mode": {
    "name": "ipython",
    "version": 3
   },
   "file_extension": ".py",
   "mimetype": "text/x-python",
   "name": "python",
   "nbconvert_exporter": "python",
   "pygments_lexer": "ipython3",
   "version": "3.7.3"
  }
 },
 "nbformat": 4,
 "nbformat_minor": 2
}
